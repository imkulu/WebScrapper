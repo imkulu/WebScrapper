{
 "cells": [
  {
   "cell_type": "code",
   "execution_count": 15,
   "metadata": {},
   "outputs": [
    {
     "data": {
      "text/plain": [
       "True"
      ]
     },
     "execution_count": 15,
     "metadata": {},
     "output_type": "execute_result"
    }
   ],
   "source": [
    "from urllib.request import urlopen, Request\n",
    "from bs4 import BeautifulSoup as bs\n",
    "from win10toast import ToastNotifier\n",
    "\n",
    "UserAgent = {\"User-Agent\":\"Mozilla\"}\n",
    "# Create the request object\n",
    "req = Request(\"http://dollarrupee.in/cad-to-inr-today-forecast\", headers = UserAgent)\n",
    "html = urlopen(req)\n",
    "\n",
    "# Parse the HTML page\n",
    "soup = bs(html, 'html.parser')\n",
    "# find the required section\n",
    "Exchange_Rate = soup.find(\"div\", {\"style\":\"font-size:14px\"}).find('p').getText()[0:77]\n",
    "# use the notifciation \n",
    "ToastNotifier().show_toast(title=\"Exchange Rate CAD to INR\", msg=Exchange_Rate, duration=10 )"
   ]
  },
  {
   "cell_type": "code",
   "execution_count": null,
   "metadata": {},
   "outputs": [],
   "source": []
  }
 ],
 "metadata": {
  "kernelspec": {
   "display_name": "Python 3",
   "language": "python",
   "name": "python3"
  },
  "language_info": {
   "codemirror_mode": {
    "name": "ipython",
    "version": 3
   },
   "file_extension": ".py",
   "mimetype": "text/x-python",
   "name": "python",
   "nbconvert_exporter": "python",
   "pygments_lexer": "ipython3",
   "version": "3.7.3"
  }
 },
 "nbformat": 4,
 "nbformat_minor": 2
}
